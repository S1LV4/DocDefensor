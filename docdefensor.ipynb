{
  "nbformat": 4,
  "nbformat_minor": 0,
  "metadata": {
    "colab": {
      "provenance": []
    },
    "kernelspec": {
      "name": "python3",
      "display_name": "Python 3"
    },
    "language_info": {
      "name": "python"
    }
  },
  "cells": [
    {
      "cell_type": "markdown",
      "source": [
        "---\n",
        "\n",
        "📁 **DocDefensor - Script de Geração de Documentos/Manifestações Automáticas [V.1.0.0]**  \n",
        "🔗 Créditos: Desenvolvido por [João Victor](https://github.com/S1LV4/) | [joao.ai](https://linktr.ee/joao.ai)\n",
        "\n",
        "---\n",
        "\n",
        "### 🧭 **Como Usar: Passo a Passo**\n",
        "\n",
        "#### 1️⃣ Faça **upload** dos seguintes arquivos na sessão de arquivos do **Google Colab**:\n",
        "\n",
        "- `FORM_DOCUMENTO.docx` → Modelo do documento com as chaves definidas como `{{chaves}}`\n",
        "- `documentos.csv` → Arquivo CSV com os valores correspondentes às chaves\n",
        "\n",
        "> 💡 **Dica:** Caso deseje utilizar um modelo diferente, basta alterar os nomes dos arquivos conforme abaixo:\n",
        "\n",
        "```python\n",
        "CSV = BASE / \"documentos.csv\"\n",
        "TEMPLATE = BASE / \"FORM_DOCUMENTO.docx\"\n",
        "```\n",
        "\n",
        "#### 2️⃣ Execute o processador com o seguinte comando:\n",
        "\n",
        "```python\n",
        "__procuracoes()\n",
        "```\n",
        "\n",
        "#### 3️⃣ Após a execução, os arquivos gerados estarão disponíveis para download na pasta:\n",
        "\n",
        "```\n",
        "/content/documentos/\n",
        "```\n",
        "---"
      ],
      "metadata": {
        "id": "tRnuQa-mZW1-"
      }
    },
    {
      "cell_type": "code",
      "source": [
        "#!/usr/bin/env python3\n",
        "# -*- coding: utf-8 -*-\n",
        "\n",
        "# Instalação de pacotes\n",
        "import subprocess, sys\n",
        "for p in ['python-docx', 'docxtpl', 'pandas']:\n",
        "    subprocess.check_call([sys.executable, '-m', 'pip', 'install', '-q', p])\n",
        "\n",
        "# Imports\n",
        "import pandas as pd\n",
        "from pathlib import Path\n",
        "from datetime import datetime\n",
        "from docxtpl import DocxTemplate\n",
        "import re"
      ],
      "metadata": {
        "id": "4ixXadawYsIE",
        "jupyter": {
          "is_executing": true
        }
      },
      "outputs": [],
      "execution_count": 11
    },
    {
      "cell_type": "code",
      "source": [
        "# Caminhos\n",
        "BASE = Path(\"/content\")\n",
        "CSV = BASE / \"documentos.csv\"\n",
        "TEMPLATE = BASE / \"FORM_DOCUMENTO.docx\""
      ],
      "metadata": {
        "id": "jHpOIWZhYuCL"
      },
      "execution_count": 12,
      "outputs": []
    },
    {
      "cell_type": "code",
      "source": [
        "# Limpeza de nome para nome de arquivo\n",
        "def __limpar_nome(nome):\n",
        "    nome = str(nome).upper().strip()\n",
        "    for a, s in {'Á':'A','À':'A','Ã':'A','Â':'A','É':'E','Ê':'E','Í':'I','Ó':'O','Ô':'O','Õ':'O','Ú':'U','Ç':'C'}.items():\n",
        "        nome = nome.replace(a, s)\n",
        "    nome = re.sub(r'[^A-Z0-9\\s]', '', nome)\n",
        "    return re.sub(r'\\s+', '_', nome)[:40]"
      ],
      "metadata": {
        "id": "PWLQJqT9Y05j"
      },
      "execution_count": 13,
      "outputs": []
    },
    {
      "metadata": {
        "id": "YVfwb-cxyUgF"
      },
      "cell_type": "code",
      "outputs": [],
      "execution_count": 14,
      "source": [
        "# Processamento principal\n",
        "def __processar():\n",
        "    if not CSV.exists():\n",
        "        print(\"❌ CSV não encontrado.\")\n",
        "        return\n",
        "    if not TEMPLATE.exists():\n",
        "        print(\"❌ Template não encontrado.\")\n",
        "        return\n",
        "\n",
        "    try:\n",
        "        df = pd.read_csv(CSV)\n",
        "    except Exception as e:\n",
        "        print(f\"❌ Erro ao ler CSV: {e}\")\n",
        "        return\n",
        "\n",
        "    obrig = ['modelo','nome_outorgante','id_funcional_outorgante','cpf_outorgante',\n",
        "             'nome_outorgado','identidade_outorgado','cpf_outorgado','data']\n",
        "    if not all(col in df.columns for col in obrig):\n",
        "        print(f\"❌ Colunas faltando: {set(obrig) - set(df.columns)}\")\n",
        "        return\n",
        "\n",
        "    pasta = BASE / \"documentos\" / datetime.now().strftime(\"%Y%m%d_%H%M%S\")\n",
        "    pasta.mkdir(parents=True, exist_ok=True)\n",
        "\n",
        "    ok, erro = 0, 0\n",
        "    for i, linha in df.iterrows():\n",
        "        try:\n",
        "            tpl_path = BASE / linha['modelo']\n",
        "            if not tpl_path.exists():\n",
        "                print(f\"❌ Template não encontrado: {linha['modelo']}\")\n",
        "                erro += 1\n",
        "                continue\n",
        "\n",
        "            dados = {col: str(linha[col]).strip() for col in obrig if col != 'modelo'}\n",
        "            nome_arq = f\"DOC_{__limpar_nome(linha['nome_outorgante'])}.docx\"\n",
        "            doc = DocxTemplate(tpl_path)\n",
        "            doc.render(dados)\n",
        "            doc.save(pasta / nome_arq)\n",
        "            ok += 1\n",
        "        except Exception as e:\n",
        "            print(f\"❌ Erro na linha {i + 1}: {e}\")\n",
        "            erro += 1\n",
        "\n",
        "    print(f\"\\n✅ {ok} geradas com sucesso | ❌ {erro} com erro(s)\")\n",
        "    print(f\"📂 Arquivos em: {pasta}\")\n"
      ]
    },
    {
      "cell_type": "code",
      "source": [
        "__processar()"
      ],
      "metadata": {
        "colab": {
          "base_uri": "https://localhost:8080/"
        },
        "id": "8Gv4RBuRYxS7",
        "outputId": "93c0e7cc-c2a6-41ed-c51b-91ef9af471a8"
      },
      "execution_count": 15,
      "outputs": [
        {
          "output_type": "stream",
          "name": "stdout",
          "text": [
            "\n",
            "✅ 9 geradas com sucesso | ❌ 0 com erro(s)\n",
            "📂 Arquivos em: /content/documentos/20250729_201301\n"
          ]
        }
      ]
    }
  ]
}